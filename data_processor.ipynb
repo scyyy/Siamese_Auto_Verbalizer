{
 "cells": [
  {
   "cell_type": "markdown",
   "metadata": {
    "collapsed": true,
    "pycharm": {
     "name": "#%% md\n"
    }
   },
   "source": [
    "## Yelp Reviews Processor"
   ]
  },
  {
   "cell_type": "code",
   "execution_count": 2,
   "outputs": [
    {
     "name": "stderr",
     "output_type": "stream",
     "text": [
      "8021122it [03:48, 35089.08it/s]\n"
     ]
    }
   ],
   "source": [
    "from tqdm import tqdm\n",
    "\n",
    "dataset = []\n",
    "f = open('dataset/yelp_academic_dataset_review.json', 'r', encoding='utf-8')\n",
    "for i in tqdm(f):\n",
    "    i = eval(i)\n",
    "    dataset.append([i['text'].replace('\\n', ''), str(int(i['stars']))])"
   ],
   "metadata": {
    "collapsed": false,
    "pycharm": {
     "name": "#%%\n"
    }
   }
  },
  {
   "cell_type": "code",
   "execution_count": 7,
   "outputs": [],
   "source": [
    "import pandas as pd\n",
    "\n",
    "def generate_n_shot_set(dataset, shots):\n",
    "    set = pd.DataFrame(dataset)\n",
    "    n_shot = set.sample(n=shots)\n",
    "    with open('input_data/train' + str(shots) + '_ovr.csv', 'w', encoding='utf-8') as f:\n",
    "        inputs = list(n_shot[0])\n",
    "        labels = list(n_shot[1])\n",
    "        ovr_label = []\n",
    "        for label in labels:\n",
    "            if label == '1':\n",
    "                ovr_label.append('1')\n",
    "            else:\n",
    "                ovr_label.append('2')\n",
    "        for i in tqdm(range(len(inputs))):\n",
    "            f.write(inputs[i].replace(',', '.') + ',' + ovr_label[i] + '\\n')\n",
    "\n",
    "    print('Done generating '+str(shots)+' set....')\n",
    "\n",
    "def generate_testset(dataset, shots):\n",
    "    set = pd.DataFrame(dataset)\n",
    "    n_shot = set.sample(n=shots)\n",
    "    with open('input_data/test.csv', 'w', encoding='utf-8') as f:\n",
    "        inputs = list(n_shot[0])\n",
    "        labels = list(n_shot[1])\n",
    "        for i in tqdm(range(len(inputs))):\n",
    "            f.write(inputs[i].replace(',', '.') + ',' + labels[i] + '\\n')\n",
    "\n",
    "    print('Done generating '+str(shots)+' set....')"
   ],
   "metadata": {
    "collapsed": false,
    "pycharm": {
     "name": "#%%\n"
    }
   }
  },
  {
   "cell_type": "code",
   "execution_count": 8,
   "outputs": [
    {
     "name": "stderr",
     "output_type": "stream",
     "text": [
      "100%|██████████| 1/1 [00:00<?, ?it/s]\n",
      "100%|██████████| 50/50 [00:00<00:00, 50099.19it/s]\n",
      "100%|██████████| 100/100 [00:00<00:00, 100318.20it/s]\n",
      "100%|██████████| 1000/1000 [00:00<00:00, 250720.55it/s]\n"
     ]
    },
    {
     "name": "stdout",
     "output_type": "stream",
     "text": [
      "Done generating 1 set....\n",
      "Done generating 50 set....\n",
      "Done generating 100 set....\n",
      "Done generating 1000 set....\n"
     ]
    }
   ],
   "source": [
    "generate_n_shot_set(dataset, 1)\n",
    "generate_n_shot_set(dataset, 50)\n",
    "generate_n_shot_set(dataset, 100)\n",
    "generate_n_shot_set(dataset, 1000)"
   ],
   "metadata": {
    "collapsed": false,
    "pycharm": {
     "name": "#%%\n"
    }
   }
  },
  {
   "cell_type": "code",
   "execution_count": 50,
   "outputs": [
    {
     "name": "stdout",
     "output_type": "stream",
     "text": [
      "0 [\"Man this is a tough one.  As a displaced Texan i had to try for some real Texas bbq in vegas.  This was just about average as far as what youd find back home.  I would defenately choose Big Bs over memphis or daves.  But being that dickies is closer I think ill just keep going there for my to-go orders but for a sit down meal I'd come here.  I stopped in and got the 2 meat plate.  As far as price goes it was on par with the other bbq joints in town.Walking in I was reminded of home.  Signs posted on the wall says they serve shiner.  If I was a beer drinker im sure I'd be happy.  Everyone was drinking shiner when I was younger.  Ordering was straightforward.  I ordered my standard or brisket and sausage.  Sides were potatoe salad and mac and cheese.Brisket was the way i like it Trimmed.  It had good smoke flavor and you could see a smoke ring.  It was a tad dry and didn't pass bend test.  Not the best brisket ever but far from the worst.Sauage i ordered was the jalape帽o cheese hot link.  It was tasty and spicy but not so hot you didn't want to finish. I didn't really notice any cheddar in the sausage and it kind of reminded me or a store bought link.The patatoe salad was ok.  A little too much stuff in it for me but maybe you like it that way.  And a little too much pepper?  It is NOT a mustard based potatoe salad because its a Texas joint so don't be surprised.Mac and cheese... again a bit heavy on the pepper and a little runny for my liking.Now for the rest... a little odd that a Texas bbq joint missed this.  Where was my sliced onion and pickle????????????  also whats with asking if I want wheat bread???  White bread only :).  Other than that it is what it is.\", '3']\n",
      "1 [\"United out of LAS is not to bad but since it is not a hub airport you usually have to hop somewhere else to get to your ultimate destination. The United Section is small but nice.  The gate area is on the tiny side and on a full flight can become slightly chaotic.  On this trip I was heading to Honolulu via LAX.  This was the standard commuter type plane with no amenities.  The Wifi although offered didn't work as usual.  This has been the norm with the last several United flights with Wifi.  The crew is clueless on how it works or what to do to get it to work.  So much for that revenue stream.    If new to United and taking a United flight soon below are a few tips.1.  If on a long domestic trip bring your own food.  What they offer isn't that good and or fulfilling.2.  Buy water or a soda - the service in coach is slow and not passenger friendly3.  If on a long international or domestic flight get economy plus.  If you don't schedule a deep tissue massage or chiropractic visit at your arrival city.  4.  If buying this cheapest ticket don't expect to find space in the overhead bins - save money and gate check your large hand carry item since it is free and faster than cheeked baggage.  5.  Have your own entertainment device even if they offer entertainment on the flight.  No guarantee it works and last minute plane changes could make for a boring flight.  Good luck and travel safe :)\", '3']\n",
      "2 ['I LOVE this place. Everything has been delicious every time. I really love the breakfast burritos and tacos al pastor. Everyone who works their is super friendly. Highly recommend!!', '5']\n",
      "3 [\"It's only ok\", ' I say this because the counselors SUCK. They have no idea what they are doing', ' and each one will give you conflicting information', \" which in turns screws you and your degree plan up. I was given the wrong degree form. Twice. I was told I didn't need communications. Wrong. Everyone does. Every school has good and bad professors\", ' and the same is true here. Here I have had really great professors who have taught at ivy league schools (why they are here now', \" I have no idea) and then there are the ones who make you want to stab yourself repeatedly in the eye. It's a small enough campus that you can get from one end to the other in less than ten minutes\", ' which is usually the only time I have between classes', \" and big enough that you don't get swept away with a current of people.Have a problem with parking close? Shut up. There's a LOT of parking here. A FRICKEN LOT. Most people are too fat and lazy to walk the extra 100 feet\", ' and prefer to drive around for ten minutes to find a close spot. Seriously', ' there have been people who come in late saying this', ' and guess what? They would have been on time if they had parked in the NEVER FULL lot on the otherside. UNLV is way worse! They have METERS there guys', ' so come on', ' CSN parking is not bad at all. So shut up.', '3']\n",
      "4 ['Out of all the Hawaiian food spots in Las Vegas', ' I would say this is definitely number one.  I had the meat jun which I will return for more because it was delicious', ' and pork hash was on point', ' with great customer service', '5']\n",
      "5 ['The Chicken Marsala is excellent! The menu is much improved and the fool quality is noticeable better. Love the views and the casual atmosphere of this neighborhood restaurant and bar. Stop by and enjoy their large patio.', '5']\n",
      "6 ['Disappointed by the serving size! Surprising', ' I know', \" at a restaurant known for their huge portions.My husband and I are vegans who took our son to Claim Jumper following his graduation from ASU. He's a meat-loving guy who picked the place. No worries for us\", ' we can alway find a salad that will work for us. My husband and I ordered the California Citrus Salad (hold the bleu cheese). So far', \" so good. The our food arrived. We honestly thought they split one salad between us. Another member of our party was eating the side salad that came with his entree which was bigger that our full size salads. We asked the server and were told that was the size of the salad. We had to order a side of fries so that we didn't walk away hungry!\", '2']\n",
      "7 [\"It is my pleasure to review this company and it's owner\", ' David Glick.  David and I have known one another for years and on 5 occasions he  repaired my computer and instructed me clearly and distinctly on installing software.  He was instrumental in assisting me with setting up my first website years ago.  David is consciencious', ' caring', ' dependable', ' patient and the \"best in the business\" when it comes to computers.  My suggestion is that you look no further  than The Mobile Tech Computer Repair in Glendale', ' Arizona', ' for the most competent and fairly priced company in the business.  Sylvia Sharenow', '5']\n",
      "8 ['Cute', ' casual spot to grab a quick bite for lunch or a snack.  It was a bit pricey for the three of us - about $70 - especially considering that there is no table service (you order at the counter and then bring the food to your table yourself).  We ordered a sandwich', ' two salads', ' diet coke', ' bottle of water', ' and latte.  I would like to return to try their affogado.  They have low sugar gelato options as well that I am eager to try.', '3']\n",
      "9 ['Sidecar is a lovely', ' cozy little place on College St (\"Little Italy\" although we know that\\'s a bit of a misnomer).  The menu', ' while not extensive is very good value.  They serve up casual bistro fare done very well indeed.  We opted for the prix fixe menu ($24) and found everything to be of fine quality indeed.  Two of us had chicken (rarely ordered by us) and it was quite delish!  The salmon was perfectly tender and done to medium perfection as was the steak frites.  The steak was a tender', \" delicious and a perfect medium rare.  While not the best frites I've ever had\", ' they were still yummy.The salads were good but nothing to write home about.Minor quibble - the service was adequate at best.  Food - ****Price $$Ambience ****Service **', '3']\n",
      "10 ['Convenient location. I really like the hotel staff', ' and the Marriott cleanliness rules are well taken care of here', ' as this is a clean hotel. I will say that it is extremely busy', ' and the price per night seems quite outrageous at 209 for a regular room. Overall good place the restaurant is good the bistro is good so I give this three stars.', '3']\n",
      "11 ['Psst! Hey', ' I like you more than Pizzeria Bianco. Mainly because you have good pizza', \" and I don't have to spend half my life on a waiting list for it. Hip-hip-hooray for stress-free pizza!\", '4']\n",
      "12 ['Friendly and quick service! My mom and I split two scoops of the raspberry and strawberry sorbet. We also sampled the Mango sorbet.. it was delicious!', '5']\n",
      "13 ['First off let me say the owner is super', ' super nice. She is passionate about what she does and it comes across in her food! Coney Island was at the Meadows Mall but the owner informed us that they recently moved. Wishing them success because the food is definitely enough to keep me going back! Oh her chili is awesome!', '5']\n",
      "14 [\"Audrey had the worst service! If you can't cut kids hair don't advertise it ! You're supposed to be a professional. She let us leave with hair all over my sons face ! Worse barber ever !!\", '1']\n",
      "15 ['The midwives here have been FANTASTIC. They helped me deliver three of my babies', \" and I've loved every experience. The ObGyns have been less awesome\", ' mostly just not as attentive and a little more brusque', \" but I haven't had a truly negative experience with them\", ' just a few interactions. You can definitely tell the difference between the midwives and the doctors though. The midwives are amazing.', '5']\n",
      "16 ['Dinner with client:Went here with a friend of mine who happens to be a client as well as his colleagues.  The service was great in seating all 10 of us in the middle of the restaurant so we could get a feel of the atmosphere', ' rather than be on the side lines. I enjoyed the new york strip and went big with eh sides with mac and cheese and french fries.  Not to take away from the perfectly cooked steak', ' but their mac and cheese was amazing', ' I use theirs as my benchmark now.  Fries can be messed up', ' but they did them well.Nightcap atmosphere:We ended the night with some drinks overlooking the strip in a non-stuffy and mellow atmosphere.  I would recommend this place over the foundation room.  Only con I can think of (splitting hairs here)Only downside can be if you are sat by a group of cigar smokers in the outdoor lounge.  The smoke gets trapped there due to the winds that wrap around high rises', \" so the open air lounge does not help air out the place.  Don't get me wrong\", ' I enjoy smoking cigars once in awhile', ' but it is not pleasant if you are not indulging and are left with the second hand smoke (sorry I am from California and probably sound like a hypocrite to most readers).', '5']\n",
      "17 [\"1 Star for Komol? Absolutely. Komol's food is usually really good\", \" so much so that it's been on my weekly lunch rotation for almost 2 years. But no matter how good their food is\", \" if you can't get service nothing else matters. Less than an hour ago as I write this and for the 2nd time recently I've walked out without getting my food. If the parking lot is packed service always seems to suffer. Thursdays in particular seem to be the worst. While LOS across the parking lot is a lot more expensive and overrated in my opinion\", ' at least I can get something to eat there. When the Komol staff knows you by name', ' and even knows your favorite order and they still screw it up...yeah', \" that's certainly 1 Star worthy.\", '1']\n",
      "18 ['My husband heard about this one on The Food Network.  We were in town visiting family and decided to give it a shot.  What a great meal.  The burgers were delicious as were the salads.  They have a good variety of options and the service was wonderful.', '5']\n",
      "19 [\"Ordered wonton soup and by far this is the best one I've had out of 13 other restaurants. This placed just opened and I'm coming back for more\", '5']\n",
      "20 ['Horrible service. Very condescending personnel. I was excited when this store opened but I will never go there or recommend it to anyone I know.', '1']\n",
      "21 [\"Saw Craig Ferguson perform in the Ovations Theater and loved the show. He is so funny!! The theater is small enough to feel very intimate and the ticket prices are great!Also enjoyed some time in the casino where the staff was very friendly and helpful. One even spent time showing me how to use my Players Club Bonus $$ on the slot machines - I walked away a winner!Can't wait to go back for more shows and to try some of the restaurants.\", '5']\n",
      "22 ['This is my 4th visit here. The food tastes delicious and the service starts off good but unfortunately', \" the bartenders aren't attentive. You have to wait forever or get up & go ask for another round. It's a very relaxed casual atmosphere & the prices are super affordable. I only tip because I'm a tipper. I felt alienated & just sat at the bar forever waiting for my tab. This restaurant may be better enjoyed at home - next time I will order on one of the delivery services.\", '3']\n",
      "23 ['Excellent food crappy service. I just started working in one of the buildings at Ayrsley and decided to go there since it was convenient. The first time I went the service was OK and the food was good. The next 3 times the service was bad. Two  of the times', ' we had to sit ourselves because we were standing there for almost 10 minutes and even then', \" we still had to wait an additional few minutes for someone acknowledge our existence. I'm disappointed at the service and most likely  not to come back.\", '3']\n",
      "24 [\"Anthony Cox and the crew are always EXCELLENT!  I've worked with Anthony and his guys on many occasions and they all do great work in a timely manner.  They make sure everything is the way I want it and they clean up the area well.They all do a beautiful job!  Kevin McGann the manager is always great and helpful. If I've ever had a problem they rush to fix it and I appreciate that.CALL MOON VALLEY on PINNACLE PEAK!\", '5']\n",
      "25 ['After getting several bids on a replacement mister pump', ' Senor Mist had the best value for product and warranty. Karen was absolutely amazing and Rex and his team were professional with the install. Our new pump has exceeded our expectations! Their customer service was fantastic and I highly recommend Senor Mist!', '5']\n",
      "26 ['On my last last adventure I visited the lovely city of Montreal.I saw this restaurant  and had to try it. Oh my Goodness this place was Sooooooo Good! I went back two days in a row.The first day I had the veggie frittata and to my excitement it came with a tray of fresh fruit w\\\\/chocolate dipping sauce!The second day I had the raspberry chocolate crepe with a bowl espresso and milk Mmmmm delicious!If I had more time in that wonderful city I would have gone there everyday to experience a different plate of chocolate and food.', '5']\n",
      "27 ['Awesome beer selection. even better video game selection', '  all free lots of t.v. with sports', '  and great tunes. Just needs great food to be 5', '4']\n",
      "28 ['Yesterday was the worst experience I have ever had at a car dealership. We had been working with a sales person who assured us numerous times that the vehicle we were looking at was still available. When we got there', ' we took a test drive', ' decided that it was the vehicle for us and started the negotiation process. We settled on a price and then they had us waiting for two hours. During that two hours', ' they were processing the financing for another person on the same vehicle. Bottom line is that they kept us waiting there while they worked two deals for the same vehicle. Wanted to keep us in their pocket in case the other deal fell out. That is no way to treat a prospective customer. I will never go back to this dealership again!', '1']\n",
      "29 ['The food was amazing and the atmosphere was great. We had the scallops and lobster risotto. Both were great but the scallops were amazing. Everyone but me got the short ribs and cleaned their plates! I tried a bite and wished I had ordered that! But my filet mignon was delicious. Our server John F. was very attentive and super friendly. He really knew the menu and was so nice to my mom. We were celebrating her 74th birthday. As a local I will definitely come back.', '5']\n",
      "30 ['We arrived at prime brunch time but was able to sit at the community table. This place is so cute! The place is super cozy and the food looked amazing. One thing about the menu though there is not that many options for breakfast which is fine we both found something we wanted.I ordered mocha and we Both ordered the spicy egg Panini sandwich. Food and drink came out pretty quickly.    The mocha was delicious creamy and chocolatey. The sandwich was huge and contained a lot of spice from the  Siarachi sauce. The cheese', ' veggies and pork in the sandwich was absolutely delicious! The sandwich was perfect and I are every bite of it :) it was a great start to our day having breakfast here !', '4']\n",
      "31 ['We love Red Rock Pest Control. This company is amazing. If you are looking for a local company then you have found the right one. Michelle and Samantha in the office are amazing. Their technicians John', ' jeff', \" and James to name a few are the best in town. This company does what it says it's gonna do and is what makes me happy to pay for a pest service. Prices are great and they are always on time. Thank you Red Rock Pest Control!\", '5']\n",
      "32 ['What a GREAT experience! I went here today after going to another MyEyeDr location last year where I had the worse experience ever. Today was soooo much different. For one', \" I got there and was given attention right away. The front desk receptionist was not as friendly as I would have expected but she was not rude either. The assistant was very knowledgeable and thorough. She explained everything as we went along. Dr. Chantel Garcia gave me so much information not only about my current condition but what to expect in the future as I got older. She gave me tips on how to take better care of my eyes. She was very clear in her explanations and gave reasons along with her findings. This was a very good experience. I'll be back!\", '4']\n",
      "33 ['I have worked with Luke the owner in the past and am currently training with Anthony. The team is highly encouraging', ' knowledgeable & simply fantastic. I love that they create a customized workout each time. As a business owner & full time corporate gal my time is very limited. I appreciate the excellent programs', ' thoughtfully sequences training sessions & individualized attention. I need to get in fast & get it done. These guys are the BEST.', '5']\n",
      "34 [\"I am so grateful that they could get me in last minute on a Saturday. I got a full color and cut and it was exactly what I wanted. I'm not good at communicating what I want done with my hair but Chuck somehow understood completely. The color looks great\", ' he fixed a terrible cut that I had', \" and my hair isn't fried or destroyed. The atmosphere is relaxed and welcoming unlike a lot of other salons. I will definitely be back and recommending others to go!\", '5']\n",
      "35 ['We are definitely going back! Patio seating is a must and take advantage of the happy hour too. If you love garlic', ' this Italian eatery should be on your list.', '5']\n",
      "36 ['Absolutely fav spot for ribs and wings', ' plus the staff is always so helpful and in good spirits.', '5']\n",
      "37 ['So I wanted to wait a few days after my wax before I reviewed', ' just so I had an even mind about it.I would have to say I am thoroughly impressed. I was when I went into EWC', \" a virgin in the waxing world. I've had my brows done before but honestly you cannot compare the two. Let me just say\", \" they are kind. SUPER friendly!!! I've never felt so comfortable with my lady parts exposed\", ' not even in front of my boyfriend... and they get in there', ' so be prepared is you get that Brazilian', \" like I did . Now at the moment that I'm writing this I'm having a hard time remembering her name\", ' but it started with an \"M\" she is literally an angel. I won\\'t say it doesn\\'t hurt', \" because it does. BUT! It's a lot of hype\", \" it's no where near as painful as you think it will be. Marina? I think... made me feel like I was chillin with a friend. Granted a friend who is about to remove all the hair from your lady business\", \" but hey! If you've never had a wax\", \" do it. I'm a week in\", \" and I'm still hairless.. never in all my days of shaving have I ever experienced anything so awesome.  Get the darn wax ladies!\", '5']\n",
      "38 [\"It's a nice place for a lazy brunch\", ' they have some light snacks', ' salads', ' sandwiches', ' etc.The dish I ordered tasted great', \" however I can't commend on its appearance. Nothing bad per se\", ' but not exceptional.', '3']\n",
      "39 [\"I'd been holding off on Del Frisco's for at least a year. It must be the highest rated  if not in all of Vegas\", \" at least off the strip. I had a friend tell me about his experience at the one in NY and  trusted his word that I'd be coming in here to get some of the best meat around...Their parking lot welcomes you before valet does\", \" strange set of events. The steakhouse is classic in theme. You won't find any STK vibes here but rather 'pardon my reach' type service. As for the wait\", \" well I guess I'll never know because half of our party had already been seated. But service was all around attentive. Sides served onto your plate\", ' the way it should be done. I was very impressed with how quickly your drinks (alc and no alc) are brought over too. Very high quality.FoodAppetizersShanghai-Style Fried Calamari: You can taste the \"shanghai\" in this. A nice contemporary twist on the calamari. 4.25\\\\/5Jumbo Lump Crab Cakes: The best crab cakes I\\'ve had up to date. They were so rich in flavor that they felt like a seafood dessert. Their cajun lobster sauce soaked in just perfect to add what it needed to add to it. 4.75\\\\/5Tomahawk Chop: I was left unimpressed. It was cooked to the medium rare but I could not find the rich juicy flavor that is advertised with it. At the chew', ' it comes in nicely but that is the only spot where you can taste its quality. Tempting but I would opt for another cut. 2.75\\\\/5For sides', ' I tried their mushrooms and onions', ' spinach', \" onion rings and baked potato. They were all delicious with the exception of the onion rings that were under fried and could still taste the batter with most bites. The mushrooms and onions along with the spinach were the most impressive.It was an early dinner so I passed on drinks as stamina means all in Vegas.I enjoyed my dinner at Del Frisco's. Even though the meat did not 'meat' my expectations everything else either met or surpassed them. They do have many other delicious cuts of meat that is forcing my future to include them in it.\", '4']\n",
      "40 ['Good food but....Service? Not so much.So I went there with my family and when I arrived I asked for a table for 3 in a booth. I could easily spot 3 options at booths and tables clean', ' no reserved sign. She looked around and said', ' she had no free booths. I replied that it was important as my daughter in on crutches. Oh she said ok maybe we can find something. So I followed Sherlock Homey to a table thinking it would be one of the free booths. Nope! Smack dab in the middle of. The high traffic area. I said again that booth over there please? And she said \"sure\" anywhere you like', \" as if she just met me. I swear she was some offspring of Apple's Siri when she gets the directions all wrong and has no depth to the conversation. Anyhow we had 2 turkey Angry Burgers and Mill street Organic beer. And my daughter had a straight burger. A little slow delivery but pretty good but not stellar burgers. The fries at the price they were arrived cold and not much for the cost. We were going to order more but in our entire meal\", \" not one server came to check on anything. I first thought it was the standard trick to get us to drink more. But service so bad they forgot to collect on the strategy so then I just realized they really didn't care. So after waiting 10 more minutes we had to run interference to get the cheque. We left feeling good food \", \" bad service. Will I be back? I doubt it if they keep the multiple Dory's working there.\", '3']\n",
      "41 ['Great service from the whole team. Dr. Vyas as was very knowledgable and answered my many questions about my super high prescription', ' including different options regarding contact lenses', ' glasses and surgery. The rest of the staff were incredibly friendly and professional. I brought in my own frames and my glasses were ready in a couple weeks', ' which is pretty damn good because my prescription is so high', \" it often takes longer.I'll definitely be seeing them again next year\", \" as I've already made my appointment.\", '5']\n",
      "42 ['WEEEELLLLL... a few comments for the Lake Mead Store:1)  Kira - thank you for your attention to excellent customer service', \" including making the Boreg delicious.2)  Young women cleaning EVERYTHING....Sorry I didn't catch your name with regards to keeping the site sparkling clean.3)  Chef's in the back and the Menu overall...Yum\\\\/Yum\\\\/Yum!\", '5']\n",
      "43 ['Took the kids here after swimming.  Disappointed in the food.  I ordered the brisket platter and over 50% of the meat was fat (see photo).  Bus boy came by to ask how the food was and gestures so-so.  He walked away without acknowledging.  The corn bread was very dry.  Almost $30 for three of us to eat lunch (two meals) and the kids are leaving hungry.', '2']\n",
      "44 ['This buffet was just ok', \" especially compared to other buffets on the strip. I wouldn't pay full price for dinner if I come back. I used a myVEGAS coupon for buy 1 get 1 free. I like the location on the 2nd floor of Aria. It's quieter up there away from the casino. The environment is family friendly and there were plenty of tables that had children. There is a special line for MLife members (Pearl and higher). This special line still took 15 minutes to be seated with 3 small parties ahead of us.There was a good amount of selection on the buffet. I felt like a good amount of the food I sampled was under seasoned. They serve unlimited crab legs\", \" but only put out one pan at a time. It only took a handful of people to grab crab legs and they were gone. Then everyone else would stand around and wait (other Vegas buffets I've been to actually plate the legs for you in a line so this problem doesn't happen). My favorite item was the truffle potatoes. The desserts did not disappoint at all! I loved them all! Service was overall good. Our plates were always cleared and our waters were never empty.\", '3']\n",
      "45 ['A big thanks to Mark Guilfoile in the Service Department at AutoNation Toyota Las Vegas for taking care of me for my last service visit. Mark handled the entire process very professionally. I  made an appointment', ' took my 4Runner down to the store', ' and then Mark took care of everything. He offered to get a ride for me while I waited', ' gave me a heads-up about the next service date', ' and contacted me 90 minutes later when the work was completed. My vehicle was ready to go when I got back to the store', ' and it was washed.Moreover', ' when I had brought the car in', ' I had forgotten to mention to Mark that I had a low tire pressure light on my instrument panel. No matter. The service guys found a nail in one of my tires', ' which they patched. Mark charged me nothing to fix the tire. This is the kind of service that will keep me coming back to AutoNation Toyota Las Vegas! Thanks again to Mark and the Service Department team!', '5']\n",
      "46 ['Was in the area for a wedding and stopped at the bar area between the wedding and reception.  Nice cozy atmosphere', ' and I heard live music in the main dining area but was too far away to enjoy it.  Bartender was friendly and professional', ' fast service.  I saw a plate of nachos that I really wish I could have had to time try', ' but unfortunately we were too rushed.  Compared to other places in the area', \" I would say this would be one of the nicest places in Fountain Hills for dinner. Would definitely try it next time I'm in the area\", \" especially for the nachos I'm still craving!!\", '4']\n",
      "47 [\"I absolutely love Famous Sam's!!!  It's the neighborhood hang out...  The service is great. They are fast and always willing to change something if you ask. The TVs can be improved\", \" but I constantly pick Sam's for their service over other bars in the area with better TVs. Great place to enjoy food and drinks...\", '5']\n",
      "48 ['Another good shawarma place', ' suffers a little with Family shawarma just the other side of Pharmacy.', '3']\n",
      "49 ['First time here. Ordered the beef steak Don', ' tako yaki.Overall the food was really good. The place was really cute', ' def loved the high ceilings. I would def come back here again.', '5']\n",
      "50 ['Great little place. The pho broth is flavorful', \" lots of noodles and fixings with the perfect amount of rare beef as I still had some left for my last bite! I also had the potstickers which were on point. They're still using their soft opening menu which had plenty of options for me. It appears to be family run. A great addition to the Henderson restaurant scene.\", '5']\n",
      "51 ['Food was fantastic and staff was warm and welcoming. They were attentive to everyone despite being packed.', '5']\n",
      "52 ['Right down the middle for me!  This place sorta reminded me of Boon Burger in Burlington but with bowl', ' wrap', ' & other options.Sandwiches\\\\/Burgers were the standard $10.  Other options such as Drinks\\\\/Desserts\\\\/Power Bowls I thought were priced high', ' but maybe $15 is the going rate for bowls of veg now?They really should introduce \"made in-house\" infused water or other cheaper drink options that I\\'ve seen at other veg\\\\/vegan spots!  They do have free tap water though...lol.Now reading the menu properly', ' they actually omitted some elements in my Aristotle bowl such as black olives', ' broccoli', ' lettuce', \" & I didn't see any hemp seeds.  :(  So take a proper look if you're ordering such a dish!The main reason why I have no real impression of this place is because the customer service was severely lacking.  Me and this other woman stood right in front of the ordering counter for a good few mins while 1 Asian guy\", ' who was assembling something', \" just lifted his head with no acknowledgment.  (I hope he wasn't the owner!)  The 2 other guys there seemed clueless as to how to handle customers.  I could barely understand\\\\/hear what the cashier was saying\", \" he was muttering.  There didn't seem to be any solid training or vetting in hiring people who have had experience in customer service or just better attitudes.Put some smiles on your faces and enthusiasm in your words!  Otherwise\", ' your customers will just find other options. Overall', ' my visit felt more like a missed opportunity...', '2']\n",
      "53 ['Came here with a group of friends who love desserts. We were very impressed with the atmosphere', ' friendliness of the owners and the quality of desserts and drinks. All the factors together helped make it a very enjoyable experience. Food:Ordered the berry mousse cake. It was so pretty that phone had to eat first before I carefully started eating it. The flavours were to the point', ' not too sweet and natural berry flavour was very prominent. Also', ' the cake was very intricate with 4 layers and a beautiful flower decoration on the top. Also', ' lots of tea flavours to choose from. Some of my friends ordered the drip coffee which was very impressive to see the process. Atmosphere:Small place but very comfortable seating. Service was good.', '4']\n",
      "54 ['So we entered the restaurant around 9 pm (an hour before close) and to my surprise the host talked to me about his favorites and was very attentive.  After he talked to us at the entrance he got us seated EXACTLY where we wanted to sit and ensured us our server would be right with us.  Our server', ' Cameron', ' greeted us very quickly and was a just as kind as the host (I wish I got his name but he had dark brown spiked hair and brown eyes; sorry!!!) We ordered 2 recommendations', \" the steakhouse quesadilla and the bone in ribeye. I'm surprised this host isn't a server as he adjusted his recommendation to what we desired. Our food was made to order and came in a timely fashion\", \" refills were quick which is very important to us. I'd highly recommend this location to others!\", '5']\n",
      "55 [\"Go see Minah for a pedicure or some cool  freestyle nail art she's easy to get to know and she really knows her stuff and really takes care of you.\", '5']\n",
      "56 ['I have visited Bardot for brunch and happy hour.  The charcuterie board and prime steak tartare are perfect for a happy hour snack', ' and Bardot features a fun cocktail menu.  I had the french toast for brunch with the bottomless rose and it was a great combo for the price.  I highly recommend Bardot for brunch and happy hour', ' and I plan to return soon to try a full dinner.', '5']\n",
      "57 ['Amazing gelato! I got the double espresso and my sister got the Honey Lavender. Even more amazing was the service from the owner :-)', '5']\n",
      "58 [\"I used to eat here a lot in my early 20s. Fast forward 10 years and I eat here every now and then. They have fully renovated their restaurant and it's nice. So\", \" I used to love their Monte Cristo. At some point their recipe changed and now I won't get it anymore. Their soups are usually very good depending on the day\", ' but their chicken rosemary is my favorite. Beef vegetable is good', \" too. I like the salad bar and thought that was a good edition to their renovation. My S.O. and I came here yesterday because we just couldn't decide what to eat for dinner. He got the chicken fried steak and mashed potatoes. I got a Belgium waffle and 2 pieces of broasted (that's right\", \" it's one of the only places that has broasted chicken in town. It's pressure fried and when ordering the machine\", ' they have to be specially trained to use it) chicken and mashed potatoes. I wanted chicken and waffles', \" but only one place I know serves it and we didn't want to go there. Chicken rosemary soup was delicious. My chicken was good\", \" but not the best chicken in town. Waffle was fine like it always is. Basically my food okay. My S.O. said his food was good and the chicken fried steak was huge. He had trouble finishing it. It's inexpensive\", ' diner food. You can get breakfast', ' lunch', ' dinner at any time during open hours.', '3']\n",
      "59 ['This is hidden in the big old \"mall\" inside the 99 Ranch Market shopping center. SF Market btw', ' forget Ranch. The boba here are large', ' cheap', ' and made with real fruit. Volcano tea is next door and they suck. So my favorite boba place was closed and I wanted durian', ' you know', ' to annoy your white friends with the smell. As it was 10pm I wasnt sure where else to go and Volcano was nearby. So I went in and asked if they had durian. Yup. Fresh? No kinda they said', \" 50\\\\/50. My butt. When I got it it was 99 percent powder and 1 sliver of durian fruit (what do you call that fibrous material that gets stuck in between your teeth when sucking out mango seeds? that stuff). It was so creamy and powdery that I couldnt finish it. I didn't want to finish it truth be known.I dont know maybe some people like this creamy boba but I did not. I went home and stuck it in the fridge. The boba balls became hard and floury the next day. I am pretty sure the ones from No 1 stayed soft even the next day.All the fruit that No 1 uses are easily displayed in front of you. When you order the durian \", \"you can smell that pungent and obnoxious smell. I didn't smell crap from Volcano when they made mine. Sure it's trendy looking and there are cute girls working there as opposed to the housewives at No1 but I didnt come here to pick up a girl....just to pick up a milk tea drink.The wall is lined with different dried fruits too. If you are looking for dried prunes\", ' apricots or the lot', ' this place has a large selection too.I used to go to TeaPlanet and have tried the others on Chinatown but this is still my favorite and the best I think.', '4']\n",
      "60 [\"Surprised by all the negative reviews! We've taken many things to this framer and never had an issue... Always good quality work - no glueing of prints or nasty attitudes... They've even been to my home to custom install a frame around a wall-size mirror and were pleasant the whole time. Have used their services at least once a year for the past 6\\\\/7 years...\", '5']\n",
      "61 [\"I can't be too unfair here\", ' so I will leave at 3 stars and try again another time. Servers were cut due to slow time (a week before xmas) around 9PM that night. Basically the service was super slow (reallllllly slow) and the food all tasted pretty bland. I had chicken parm', \" friend had jambalaya and also no Bueno.  Potstickers were yuck too. I don't know what was going on\", ' maybe it was me', ' maybe it was them. Regardless', \" I'm going to go back and give it another shot soon!\", '3']\n",
      "62 ['After a long party night in Vegas', \" Drai's is the place where I always seem to end up\", \" no matter who I'm with or what time of year it is.  Deep underneath the cheesy casino formerly known as Barbary Coast\", \" it's one of the better places to not watch the sun rise.  Favorite things?  Variety of rooms\", ' good attitude of the staff', ' casual party people', ' happy beautiful women.', '4']\n",
      "63 [\"The service here is incredible! You're given a warm welcome right upon walking in. Not only will you feel catered for\", \" but you'll also be having some yummy food! My mom and I ordered the breakfast sandwiches\", \" hers with ham and pepper jack while mine was with spinach and pepper jack. Both come with an egg as well. Mine wasn't runny at all as the menu had described it to be. I recommend trying the hazelnut latte if you like sweet coffee\", ' but they also offer sugar-free version as well. Our server made sure everything was perfect for us', \" making the experience much more homey. The way they've designed the cafe is really adorable too. There are seats on the side that are super comfortable if you're planning on reading a book or getting some homework done. Overall\", \" it's a very cute place for brunch!\", '4']\n",
      "64 [\"I've been back 8 or 9 times since last review\", ' I get great service a bar. Not sure what happened last time on floor but service has been great. Vara is great', ' not sure of spelling', '5']\n",
      "65 ['Really great experience! The restaurant is clean', ' cozy', ' and relaxed. The service was fantastic and the food was excellent for the price. I cannot speak to the quality of the bar', ' as we did not order any drinks', ' but everything we ordered exceeded our expectations. We left feeling full', ' happy', \" and like we didn't overpay. I am new to Pittsburgh\", ' but I will certainly be returning to Murray Avenue Grill soon...highly recommended!', '5']\n",
      "66 [\"Have gotten take out for lunch a few times - prices are reasonable and food is solid! When waiting for our food I'm usually the only person in the restaurant other than the staff (maybe they are much busier for dinner.) Decor is kinda cute (and better than most primarily take out Thai places I've been) - lots of fake bamboo stalks with string lights. Will certainly get take out from here again.\", '4']\n",
      "67 ['Honest & Dependable!!!  Thought I had a major plumbing issue under the foundation of my home.  Spoke to Steve on a Monday.  Tuesday morning he was here and diagnosis problem.  Leak was from my water softener in the wall which leaked through guest bedroom flooring.  Was looking at a 5k bill for a re-route instead a few hundred dollars solved the issue.  Problem repaired that same Friday.  Very professional and honest.  This is the BEST plumbing service in the valley!', '5']\n",
      "68 ['This place unfortunately has become a constant disappointment. I went in today to use my last \"capture 2\" voucher given to us the first time they bombed everything. I ordered a black and blue salad and small bobby. I was given Italian dressing instead of the gorgonzola dressing', ' no big deal. Then the sandwich.. I DO NOT UNDERSTAND why this store cannot get this sandwich correct?! My sandwhich was on 6in bread but cut at an extreme angle. You get 6in of bread and barely 3in of actual sandwich! Seriously?!I waited almost 15mins for my order', ' the woman who ordered ahead of me was still waiting for her sandwich when I left! The store only had 2 customers in it', \" myself and the other woman. I'm done! I keep wanting to give you guys the benefit of the doubt since you are representing the capriotti's name but its just not there. I'm done!\", '1']\n",
      "69 ['In spite of globetrotting a fair amount and NOT living in a cave I\\'ve missed Chick-fil-A until today. It has definitely displaced a beef option or two when fast food is needed. Several sauces are gluten free as are the grilled chicken nuggets. Hand dipped milk shakes take prep time but compare to results from specialty ice cream shops in my opinion. Half a dozen uniformed Gilbert police were among customers.  Management and staff were totally in tuned with customers in service and courtesy; they made me feel like I was at a Ritz Carlton or surrounded by \"Minnesota nice.\" I\\'ll go back.', '5']\n"
     ]
    },
    {
     "ename": "UnicodeDecodeError",
     "evalue": "'gbk' codec can't decode byte 0x9e in position 5518: illegal multibyte sequence",
     "output_type": "error",
     "traceback": [
      "\u001B[1;31m---------------------------------------------------------------------------\u001B[0m",
      "\u001B[1;31mUnicodeDecodeError\u001B[0m                        Traceback (most recent call last)",
      "\u001B[1;32m<ipython-input-50-f73ea2b39d09>\u001B[0m in \u001B[0;36m<module>\u001B[1;34m\u001B[0m\n\u001B[0;32m      3\u001B[0m \u001B[1;32mwith\u001B[0m \u001B[0mopen\u001B[0m\u001B[1;33m(\u001B[0m\u001B[1;34m'input_data/train.csv'\u001B[0m\u001B[1;33m)\u001B[0m \u001B[1;32mas\u001B[0m \u001B[0mf\u001B[0m\u001B[1;33m:\u001B[0m\u001B[1;33m\u001B[0m\u001B[1;33m\u001B[0m\u001B[0m\n\u001B[0;32m      4\u001B[0m     \u001B[0mreader\u001B[0m \u001B[1;33m=\u001B[0m \u001B[0mcsv\u001B[0m\u001B[1;33m.\u001B[0m\u001B[0mreader\u001B[0m\u001B[1;33m(\u001B[0m\u001B[0mf\u001B[0m\u001B[1;33m,\u001B[0m \u001B[0mdelimiter\u001B[0m\u001B[1;33m=\u001B[0m\u001B[1;34m','\u001B[0m\u001B[1;33m)\u001B[0m\u001B[1;33m\u001B[0m\u001B[1;33m\u001B[0m\u001B[0m\n\u001B[1;32m----> 5\u001B[1;33m     \u001B[1;32mfor\u001B[0m \u001B[0midx\u001B[0m\u001B[1;33m,\u001B[0m \u001B[0mrow\u001B[0m \u001B[1;32min\u001B[0m \u001B[0menumerate\u001B[0m\u001B[1;33m(\u001B[0m\u001B[0mreader\u001B[0m\u001B[1;33m)\u001B[0m\u001B[1;33m:\u001B[0m\u001B[1;33m\u001B[0m\u001B[1;33m\u001B[0m\u001B[0m\n\u001B[0m\u001B[0;32m      6\u001B[0m         \u001B[0mprint\u001B[0m\u001B[1;33m(\u001B[0m\u001B[0midx\u001B[0m\u001B[1;33m,\u001B[0m \u001B[0mrow\u001B[0m\u001B[1;33m)\u001B[0m\u001B[1;33m\u001B[0m\u001B[1;33m\u001B[0m\u001B[0m\n\u001B[0;32m      7\u001B[0m         \u001B[1;31m# label, body = row\u001B[0m\u001B[1;33m\u001B[0m\u001B[1;33m\u001B[0m\u001B[1;33m\u001B[0m\u001B[0m\n",
      "\u001B[1;31mUnicodeDecodeError\u001B[0m: 'gbk' codec can't decode byte 0x9e in position 5518: illegal multibyte sequence"
     ]
    }
   ],
   "source": [
    "import csv\n",
    "\n",
    "with open('input_data/train_one_vs_rest.csv') as f:\n",
    "    reader = csv.reader(f, delimiter=',')\n",
    "    for idx, row in enumerate(reader):\n",
    "        print(idx, row)\n",
    "        # label, body = row"
   ],
   "metadata": {
    "collapsed": false,
    "pycharm": {
     "name": "#%%\n"
    }
   }
  },
  {
   "cell_type": "code",
   "execution_count": 4,
   "outputs": [
    {
     "name": "stderr",
     "output_type": "stream",
     "text": [
      "100%|██████████| 5000/5000 [00:00<00:00, 358114.10it/s]\n"
     ]
    },
    {
     "name": "stdout",
     "output_type": "stream",
     "text": [
      "Done generating 5000 set....\n"
     ]
    }
   ],
   "source": [
    "generate_testset(dataset, 5000)"
   ],
   "metadata": {
    "collapsed": false,
    "pycharm": {
     "name": "#%%\n"
    }
   }
  },
  {
   "cell_type": "code",
   "execution_count": null,
   "outputs": [],
   "source": [],
   "metadata": {
    "collapsed": false,
    "pycharm": {
     "name": "#%%\n"
    }
   }
  }
 ],
 "metadata": {
  "kernelspec": {
   "display_name": "Python 3",
   "language": "python",
   "name": "python3"
  },
  "language_info": {
   "codemirror_mode": {
    "name": "ipython",
    "version": 2
   },
   "file_extension": ".py",
   "mimetype": "text/x-python",
   "name": "python",
   "nbconvert_exporter": "python",
   "pygments_lexer": "ipython2",
   "version": "2.7.6"
  }
 },
 "nbformat": 4,
 "nbformat_minor": 0
}